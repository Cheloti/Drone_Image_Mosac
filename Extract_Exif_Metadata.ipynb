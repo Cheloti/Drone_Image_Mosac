{
 "cells": [
  {
   "cell_type": "code",
   "execution_count": 1,
   "id": "b20d9d87-7452-48bf-b084-aae79f63a1b3",
   "metadata": {},
   "outputs": [],
   "source": [
    "# Import the libraries\n",
    "import os\n",
    "from PIL import Image\n",
    "from PIL.ExifTags import TAGS\n",
    "import pandas as pd\n",
    "from fractions import Fraction"
   ]
  },
  {
   "cell_type": "code",
   "execution_count": 2,
   "id": "8b931c30-9008-4833-8bf8-1269d460c1d8",
   "metadata": {},
   "outputs": [],
   "source": [
    "# Function to extract exif metadata\n",
    "def extract_exif_data(image_path):\n",
    "    image = Image.open(image_path)\n",
    "    exifdata = image._getexif()\n",
    "\n",
    "    # Initialize variables to store extracted data\n",
    "    image_name = os.path.basename(image_path)\n",
    "    latitude, longitude, altitude = None, None, None\n",
    "\n",
    "    for tag_id, data in exifdata.items():\n",
    "        tag = TAGS.get(tag_id, tag_id)\n",
    "        if tag == 'GPSInfo':\n",
    "            gps_info = data\n",
    "            latitude = gps_info.get(2)  # Latitude in degrees, minutes, seconds format\n",
    "            longitude = gps_info.get(4)  # Longitude in degrees, minutes, seconds format\n",
    "            altitude = gps_info.get(6)  # Altitude in meters\n",
    "\n",
    "    # Convert latitude and longitude to decimal degrees (rounded to 4 decimal places)\n",
    "    if latitude and longitude:\n",
    "        latitude_decimal = round(float(Fraction(latitude[0], 1)) + float(Fraction(latitude[1], 60)) + float(Fraction(latitude[2], 3600)), 4)\n",
    "        longitude_decimal = round(float(Fraction(longitude[0], 1)) + float(Fraction(longitude[1], 60)) + float(Fraction(longitude[2], 3600)), 4)\n",
    "    else:\n",
    "        print(f\"Warning: No GPS information found for {image_name}\")\n",
    "\n",
    "    return image_name, latitude_decimal, longitude_decimal, altitude"
   ]
  },
  {
   "cell_type": "code",
   "execution_count": 3,
   "id": "2d0ce10c-1a0c-40b3-8c7d-071147dcea40",
   "metadata": {},
   "outputs": [
    {
     "name": "stdout",
     "output_type": "stream",
     "text": [
      "Data exported to drone_data.dat\n"
     ]
    }
   ],
   "source": [
    "# Example usage:\n",
    "image_folder_path = \"./JPGs\"\n",
    "output_file_path = 'drone_data.dat'\n",
    "\n",
    "# create an empty list to append the image metadata\n",
    "data_list = []\n",
    "for image_file in os.listdir(image_folder_path):\n",
    "    if image_file.lower().endswith('.jpg'):\n",
    "        image_path = os.path.join(image_folder_path, image_file)\n",
    "        image_data = extract_exif_data(image_path)\n",
    "        data_list.append(image_data)\n",
    "\n",
    "# Create a DataFrame from the extracted data\n",
    "df = pd.DataFrame(data_list, columns=['imageName', 'latitude', 'longitude', 'altitude'])\n",
    "\n",
    "# Export to .dat file (rounded to 4 decimal places)\n",
    "df.to_csv(output_file_path, sep=' ', index=False)\n",
    "\n",
    "print(f\"Data exported to {output_file_path}\")\n"
   ]
  },
  {
   "cell_type": "code",
   "execution_count": null,
   "id": "2bfae361-7b2a-4fe6-b546-81760c9f789b",
   "metadata": {},
   "outputs": [],
   "source": []
  }
 ],
 "metadata": {
  "kernelspec": {
   "display_name": "Python 3 (ipykernel)",
   "language": "python",
   "name": "python3"
  },
  "language_info": {
   "codemirror_mode": {
    "name": "ipython",
    "version": 3
   },
   "file_extension": ".py",
   "mimetype": "text/x-python",
   "name": "python",
   "nbconvert_exporter": "python",
   "pygments_lexer": "ipython3",
   "version": "3.11.5"
  }
 },
 "nbformat": 4,
 "nbformat_minor": 5
}
